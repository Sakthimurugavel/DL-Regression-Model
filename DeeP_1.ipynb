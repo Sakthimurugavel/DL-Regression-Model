{
  "cells": [
    {
      "cell_type": "markdown",
      "source": [
        "- Harish G\n",
        "- AIML\n",
        "- 212222243001\n"
      ],
      "metadata": {
        "id": "TuMNxKEhWg1t"
      }
    },
    {
      "cell_type": "code",
      "execution_count": 148,
      "metadata": {
        "collapsed": true,
        "jupyter": {
          "outputs_hidden": true
        },
        "id": "yYUUjLbAICD9"
      },
      "outputs": [],
      "source": [
        "import torch\n",
        "import torch.nn as nn  # we'll use this a lot going forward!\n",
        "\n",
        "import numpy as np\n",
        "import matplotlib.pyplot as plt\n",
        "%matplotlib inline"
      ]
    },
    {
      "cell_type": "code",
      "execution_count": 130,
      "metadata": {
        "collapsed": true,
        "jupyter": {
          "outputs_hidden": true
        },
        "id": "q53TtghhICD-"
      },
      "outputs": [],
      "source": [
        "X = torch.linspace(1,55,55).reshape(-1,1)\n",
        "\n",
        "# Equivalent to\n",
        "# X = torch.unsqueeze(torch.linspace(1,50,50), dim=1)"
      ]
    },
    {
      "cell_type": "code",
      "execution_count": 131,
      "metadata": {
        "colab": {
          "base_uri": "https://localhost:8080/"
        },
        "id": "vhmfIJf6ICD_",
        "outputId": "75e6bb36-7dea-422b-8740-06f24366e0e2"
      },
      "outputs": [
        {
          "output_type": "stream",
          "name": "stdout",
          "text": [
            "tensor(-45.)\n"
          ]
        }
      ],
      "source": [
        "torch.manual_seed(59) # to obtain reproducible results\n",
        "e = torch.randint(-8,9,(55,1),dtype=torch.float)\n",
        "print(e.sum())"
      ]
    },
    {
      "cell_type": "code",
      "execution_count": 132,
      "metadata": {
        "colab": {
          "base_uri": "https://localhost:8080/"
        },
        "id": "BQ8Fl9IwICEA",
        "outputId": "6ee63cb7-0f4b-4d24-887b-d4cba13e0df5"
      },
      "outputs": [
        {
          "output_type": "stream",
          "name": "stdout",
          "text": [
            "torch.Size([55, 1])\n"
          ]
        }
      ],
      "source": [
        "y = 2*X + 1 + e\n",
        "print(y.shape)"
      ]
    },
    {
      "cell_type": "code",
      "execution_count": 133,
      "metadata": {
        "colab": {
          "base_uri": "https://localhost:8080/",
          "height": 449
        },
        "id": "UtPQEiZyICEB",
        "outputId": "cc9f9f0e-523f-47b4-e8b8-a1b517767a62"
      },
      "outputs": [
        {
          "output_type": "display_data",
          "data": {
            "text/plain": [
              "<Figure size 640x480 with 1 Axes>"
            ],
            "image/png": "[encoded data removed]"
          },
          "metadata": {}
        }
      ],
      "source": [
        "plt.scatter(X.numpy(), y.numpy())\n",
        "plt.ylabel('y')\n",
        "plt.xlabel('x');"
      ]
    },
    {
      "cell_type": "code",
      "execution_count": 134,
      "metadata": {
        "colab": {
          "base_uri": "https://localhost:8080/"
        },
        "id": "u8SyxshHICEC",
        "outputId": "26551e18-6f4c-4252-e3c1-cd5fabab389b"
      },
      "outputs": [
        {
          "output_type": "stream",
          "name": "stdout",
          "text": [
            "Parameter containing:\n",
            "tensor([[0.1060]], requires_grad=True)\n",
            "Parameter containing:\n",
            "tensor([0.9638], requires_grad=True)\n"
          ]
        }
      ],
      "source": [
        "torch.manual_seed(59)\n",
        "\n",
        "model = nn.Linear(in_features=1, out_features=1)\n",
        "print(model.weight)\n",
        "print(model.bias)"
      ]
    },
    {
      "cell_type": "code",
      "execution_count": 135,
      "metadata": {
        "collapsed": true,
        "jupyter": {
          "outputs_hidden": true
        },
        "id": "A05Re2r1ICEC"
      },
      "outputs": [],
      "source": [
        "class Model(nn.Module):\n",
        "    def __init__(self, in_features, out_features):\n",
        "        super().__init__()\n",
        "        self.linear = nn.Linear(in_features, out_features)\n",
        "\n",
        "    def forward(self, x):\n",
        "        y_pred = self.linear(x)\n",
        "        return y_pred"
      ]
    },
    {
      "cell_type": "code",
      "execution_count": 136,
      "metadata": {
        "colab": {
          "base_uri": "https://localhost:8080/"
        },
        "id": "BBvwxDwpICED",
        "outputId": "34577253-8389-4337-e8b9-23f2fb513307"
      },
      "outputs": [
        {
          "output_type": "stream",
          "name": "stdout",
          "text": [
            "Model(\n",
            "  (linear): Linear(in_features=1, out_features=1, bias=True)\n",
            ")\n",
            "Weight: 0.10597813129425049\n",
            "Bias:   0.9637961387634277\n"
          ]
        }
      ],
      "source": [
        "torch.manual_seed(59)\n",
        "model = Model(1, 1)\n",
        "print(model)\n",
        "print('Weight:', model.linear.weight.item())\n",
        "print('Bias:  ', model.linear.bias.item())"
      ]
    },
    {
      "cell_type": "markdown",
      "source": [
        "- Harish G\n",
        "- AIML\n",
        "- 212222243001\n"
      ],
      "metadata": {
        "id": "hc7FBMIiW6i3"
      }
    },
    {
      "cell_type": "code",
      "execution_count": 137,
      "metadata": {
        "colab": {
          "base_uri": "https://localhost:8080/"
        },
        "id": "PJNKio9gICED",
        "outputId": "cc607d99-b2c5-47bd-9faa-47da367df703"
      },
      "outputs": [
        {
          "output_type": "stream",
          "name": "stdout",
          "text": [
            "linear.weight \t 0.10597813129425049\n",
            "linear.bias \t 0.9637961387634277\n"
          ]
        }
      ],
      "source": [
        "for name, param in model.named_parameters():\n",
        "    print(name, '\\t', param.item())"
      ]
    },
    {
      "cell_type": "code",
      "execution_count": 138,
      "metadata": {
        "colab": {
          "base_uri": "https://localhost:8080/"
        },
        "id": "lffeY1LbICEE",
        "outputId": "50721790-b279-4717-bcf5-80d8d13a66da"
      },
      "outputs": [
        {
          "output_type": "stream",
          "name": "stdout",
          "text": [
            "tensor([1.1758], grad_fn=<ViewBackward0>)\n"
          ]
        }
      ],
      "source": [
        "x = torch.tensor([2.0])\n",
        "print(model.forward(x))   # equivalent to print(model(x))"
      ]
    },
    {
      "cell_type": "code",
      "execution_count": 139,
      "metadata": {
        "colab": {
          "base_uri": "https://localhost:8080/"
        },
        "id": "rH96uVI_ICEF",
        "outputId": "5e3ccb4f-429a-492b-8902-218718a0b6e9"
      },
      "outputs": [
        {
          "output_type": "stream",
          "name": "stdout",
          "text": [
            "[ 1. 55.]\n"
          ]
        }
      ],
      "source": [
        "x1 = np.array([X.min(),X.max()])\n",
        "print(x1)"
      ]
    },
    {
      "cell_type": "code",
      "execution_count": 140,
      "metadata": {
        "colab": {
          "base_uri": "https://localhost:8080/"
        },
        "id": "eKOr3r8aICEF",
        "outputId": "7f2b9fa9-6289-4ad3-c59a-626541a96fc4"
      },
      "outputs": [
        {
          "output_type": "stream",
          "name": "stdout",
          "text": [
            "Initial weight: 0.10597813, Initial bias: 0.96379614\n",
            "\n",
            "[1.0697743 6.7925935]\n"
          ]
        }
      ],
      "source": [
        "w1,b1 = model.linear.weight.item(), model.linear.bias.item()\n",
        "print(f'Initial weight: {w1:.8f}, Initial bias: {b1:.8f}')\n",
        "print()\n",
        "\n",
        "y1 = x1*w1 + b1\n",
        "print(y1)"
      ]
    },
    {
      "cell_type": "code",
      "execution_count": 141,
      "metadata": {
        "colab": {
          "base_uri": "https://localhost:8080/",
          "height": 472
        },
        "id": "tRHqr6iEICEF",
        "outputId": "96a5a0c4-5a16-4676-9333-154bbd2a1f3e"
      },
      "outputs": [
        {
          "output_type": "display_data",
          "data": {
            "text/plain": [
              "<Figure size 640x480 with 1 Axes>"
            ],
            "image/png": "[encoded data removed]"
          },
          "metadata": {}
        }
      ],
      "source": [
        "plt.scatter(X.numpy(), y.numpy())\n",
        "plt.plot(x1,y1,'r')\n",
        "plt.title('Initial Model')\n",
        "plt.ylabel('y')\n",
        "plt.xlabel('x');"
      ]
    },
    {
      "cell_type": "code",
      "execution_count": 142,
      "metadata": {
        "collapsed": true,
        "jupyter": {
          "outputs_hidden": true
        },
        "id": "6882KXLOICEG"
      },
      "outputs": [],
      "source": [
        "criterion = nn.MSELoss()"
      ]
    },
    {
      "cell_type": "code",
      "execution_count": 143,
      "metadata": {
        "collapsed": true,
        "jupyter": {
          "outputs_hidden": true
        },
        "id": "jiMSzqHVICEH"
      },
      "outputs": [],
      "source": [
        "optimizer = torch.optim.SGD(model.parameters(), lr = 0.0001)\n",
        "\n",
        "# You'll sometimes see this as\n",
        "# optimizer = torch.optim.SGD(model.parameters(), lr = 1e-3)"
      ]
    },
    {
      "cell_type": "code",
      "execution_count": 144,
      "metadata": {
        "colab": {
          "base_uri": "https://localhost:8080/"
        },
        "id": "Dr-YEiwwICEH",
        "outputId": "2d553005-32d0-48fa-e814-e0a9baa493b5"
      },
      "outputs": [
        {
          "output_type": "stream",
          "name": "stdout",
          "text": [
            "epoch:  1  loss: 3677.14282227  weight: 0.10597813  bias: 0.96379614\n",
            "epoch:  2  loss: 2318.64208984  weight: 0.49514940  bias: 0.97424626\n",
            "epoch:  3  loss: 1465.10742188  weight: 0.80362588  bias: 0.98251492\n",
            "epoch:  4  loss: 928.83807373  weight: 1.04813981  bias: 0.98905450\n",
            "epoch:  5  loss: 591.90441895  weight: 1.24195385  bias: 0.99422348\n",
            "epoch:  6  loss: 380.21182251  weight: 1.39558065  bias: 0.99830604\n",
            "epoch:  7  loss: 247.20718384  weight: 1.51735306  bias: 1.00152743\n",
            "epoch:  8  loss: 163.64134216  weight: 1.61387622  bias: 1.00406635\n",
            "epoch:  9  loss: 111.13756561  weight: 1.69038558  bias: 1.00606418\n",
            "epoch: 10  loss: 78.14986420  weight: 1.75103104  bias: 1.00763321\n",
            "epoch: 11  loss: 57.42392731  weight: 1.79910195  bias: 1.00886226\n",
            "epoch: 12  loss: 44.40204239  weight: 1.83720565  bias: 1.00982189\n",
            "epoch: 13  loss: 36.22043228  weight: 1.86740887  bias: 1.01056790\n",
            "epoch: 14  loss: 31.07998848  weight: 1.89134979  bias: 1.01114464\n",
            "epoch: 15  loss: 27.85026360  weight: 1.91032696  bias: 1.01158726\n",
            "epoch: 16  loss: 25.82104301  weight: 1.92536962  bias: 1.01192343\n",
            "epoch: 17  loss: 24.54607201  weight: 1.93729353  bias: 1.01217532\n",
            "epoch: 18  loss: 23.74501038  weight: 1.94674540  bias: 1.01236045\n",
            "epoch: 19  loss: 23.24168587  weight: 1.95423782  bias: 1.01249254\n",
            "epoch: 20  loss: 22.92543221  weight: 1.96017706  bias: 1.01258266\n",
            "epoch: 21  loss: 22.72670746  weight: 1.96488523  bias: 1.01263952\n",
            "epoch: 22  loss: 22.60184288  weight: 1.96861744  bias: 1.01267004\n",
            "epoch: 23  loss: 22.52336884  weight: 1.97157621  bias: 1.01267958\n",
            "epoch: 24  loss: 22.47404099  weight: 1.97392190  bias: 1.01267254\n",
            "epoch: 25  loss: 22.44303894  weight: 1.97578156  bias: 1.01265240\n",
            "epoch: 26  loss: 22.42354393  weight: 1.97725606  bias: 1.01262188\n",
            "epoch: 27  loss: 22.41127205  weight: 1.97842515  bias: 1.01258314\n",
            "epoch: 28  loss: 22.40354156  weight: 1.97935224  bias: 1.01253784\n",
            "epoch: 29  loss: 22.39866447  weight: 1.98008752  bias: 1.01248729\n",
            "epoch: 30  loss: 22.39558411  weight: 1.98067069  bias: 1.01243269\n",
            "epoch: 31  loss: 22.39363670  weight: 1.98113334  bias: 1.01237476\n",
            "epoch: 32  loss: 22.39238930  weight: 1.98150051  bias: 1.01231432\n",
            "epoch: 33  loss: 22.39158630  weight: 1.98179197  bias: 1.01225185\n",
            "epoch: 34  loss: 22.39106369  weight: 1.98202336  bias: 1.01218772\n",
            "epoch: 35  loss: 22.39071655  weight: 1.98220718  bias: 1.01212227\n",
            "epoch: 36  loss: 22.39048386  weight: 1.98235321  bias: 1.01205587\n",
            "epoch: 37  loss: 22.39031410  weight: 1.98246944  bias: 1.01198864\n",
            "epoch: 38  loss: 22.39019394  weight: 1.98256195  bias: 1.01192081\n",
            "epoch: 39  loss: 22.39009476  weight: 1.98263562  bias: 1.01185238\n",
            "epoch: 40  loss: 22.39001846  weight: 1.98269439  bias: 1.01178360\n",
            "epoch: 41  loss: 22.38994980  weight: 1.98274136  bias: 1.01171458\n",
            "epoch: 42  loss: 22.38988876  weight: 1.98277903  bias: 1.01164520\n",
            "epoch: 43  loss: 22.38983536  weight: 1.98280931  bias: 1.01157570\n",
            "epoch: 44  loss: 22.38978004  weight: 1.98283362  bias: 1.01150596\n",
            "epoch: 45  loss: 22.38972664  weight: 1.98285329  bias: 1.01143610\n",
            "epoch: 46  loss: 22.38967323  weight: 1.98286927  bias: 1.01136625\n",
            "epoch: 47  loss: 22.38962364  weight: 1.98288238  bias: 1.01129627\n",
            "epoch: 48  loss: 22.38957214  weight: 1.98289311  bias: 1.01122618\n",
            "epoch: 49  loss: 22.38952446  weight: 1.98290205  bias: 1.01115608\n",
            "epoch: 50  loss: 22.38947487  weight: 1.98290956  bias: 1.01108599\n",
            "epoch: 51  loss: 22.38942337  weight: 1.98291588  bias: 1.01101589\n",
            "epoch: 52  loss: 22.38937378  weight: 1.98292124  bias: 1.01094568\n",
            "epoch: 53  loss: 22.38932800  weight: 1.98292589  bias: 1.01087546\n",
            "epoch: 54  loss: 22.38928223  weight: 1.98293006  bias: 1.01080525\n",
            "epoch: 55  loss: 22.38922310  weight: 1.98293376  bias: 1.01073503\n",
            "epoch: 56  loss: 22.38917732  weight: 1.98293710  bias: 1.01066482\n",
            "epoch: 57  loss: 22.38912964  weight: 1.98294008  bias: 1.01059461\n",
            "epoch: 58  loss: 22.38908005  weight: 1.98294282  bias: 1.01052439\n",
            "epoch: 59  loss: 22.38902855  weight: 1.98294544  bias: 1.01045418\n",
            "epoch: 60  loss: 22.38897896  weight: 1.98294783  bias: 1.01038396\n",
            "epoch: 61  loss: 22.38893318  weight: 1.98295021  bias: 1.01031375\n",
            "epoch: 62  loss: 22.38887978  weight: 1.98295248  bias: 1.01024354\n",
            "epoch: 63  loss: 22.38883591  weight: 1.98295462  bias: 1.01017332\n",
            "epoch: 64  loss: 22.38878822  weight: 1.98295677  bias: 1.01010311\n",
            "epoch: 65  loss: 22.38873100  weight: 1.98295879  bias: 1.01003289\n",
            "epoch: 66  loss: 22.38868332  weight: 1.98296082  bias: 1.00996268\n",
            "epoch: 67  loss: 22.38863564  weight: 1.98296285  bias: 1.00989246\n",
            "epoch: 68  loss: 22.38858604  weight: 1.98296475  bias: 1.00982225\n",
            "epoch: 69  loss: 22.38853645  weight: 1.98296678  bias: 1.00975204\n",
            "epoch: 70  loss: 22.38848686  weight: 1.98296869  bias: 1.00968182\n",
            "epoch: 71  loss: 22.38843727  weight: 1.98297060  bias: 1.00961161\n",
            "epoch: 72  loss: 22.38838387  weight: 1.98297250  bias: 1.00954139\n",
            "epoch: 73  loss: 22.38833618  weight: 1.98297441  bias: 1.00947118\n",
            "epoch: 74  loss: 22.38829041  weight: 1.98297632  bias: 1.00940096\n",
            "epoch: 75  loss: 22.38823891  weight: 1.98297822  bias: 1.00933075\n",
            "epoch: 76  loss: 22.38818550  weight: 1.98298013  bias: 1.00926054\n",
            "epoch: 77  loss: 22.38813972  weight: 1.98298204  bias: 1.00919032\n",
            "epoch: 78  loss: 22.38809204  weight: 1.98298395  bias: 1.00912011\n",
            "epoch: 79  loss: 22.38804436  weight: 1.98298585  bias: 1.00904989\n",
            "epoch: 80  loss: 22.38798904  weight: 1.98298776  bias: 1.00897968\n",
            "epoch: 81  loss: 22.38794136  weight: 1.98298967  bias: 1.00890946\n",
            "epoch: 82  loss: 22.38789368  weight: 1.98299158  bias: 1.00883925\n",
            "epoch: 83  loss: 22.38784981  weight: 1.98299348  bias: 1.00876904\n",
            "epoch: 84  loss: 22.38779068  weight: 1.98299539  bias: 1.00869894\n",
            "epoch: 85  loss: 22.38774490  weight: 1.98299730  bias: 1.00862885\n",
            "epoch: 86  loss: 22.38769341  weight: 1.98299921  bias: 1.00855875\n",
            "epoch: 87  loss: 22.38764572  weight: 1.98300111  bias: 1.00848866\n",
            "epoch: 88  loss: 22.38759804  weight: 1.98300302  bias: 1.00841856\n",
            "epoch: 89  loss: 22.38755035  weight: 1.98300493  bias: 1.00834846\n",
            "epoch: 90  loss: 22.38750267  weight: 1.98300683  bias: 1.00827837\n",
            "epoch: 91  loss: 22.38745117  weight: 1.98300874  bias: 1.00820827\n",
            "epoch: 92  loss: 22.38739586  weight: 1.98301065  bias: 1.00813818\n",
            "epoch: 93  loss: 22.38735390  weight: 1.98301256  bias: 1.00806808\n",
            "epoch: 94  loss: 22.38730621  weight: 1.98301446  bias: 1.00799799\n",
            "epoch: 95  loss: 22.38725662  weight: 1.98301637  bias: 1.00792789\n",
            "epoch: 96  loss: 22.38720322  weight: 1.98301828  bias: 1.00785780\n",
            "epoch: 97  loss: 22.38715172  weight: 1.98302019  bias: 1.00778770\n",
            "epoch: 98  loss: 22.38710403  weight: 1.98302209  bias: 1.00771761\n",
            "epoch: 99  loss: 22.38705826  weight: 1.98302400  bias: 1.00764751\n",
            "epoch: 100  loss: 22.38700485  weight: 1.98302591  bias: 1.00757742\n"
          ]
        }
      ],
      "source": [
        "epochs = 100\n",
        "losses = []\n",
        "\n",
        "for i in range(epochs):\n",
        "    i+=1\n",
        "    y_pred = model.forward(X)\n",
        "    loss = criterion(y_pred, y)\n",
        "    losses.append(loss)\n",
        "    print(f'epoch: {i:2}  loss: {loss.item():10.8f}  weight: {model.linear.weight.item():10.8f}  \\\n",
        "bias: {model.linear.bias.item():10.8f}')\n",
        "    optimizer.zero_grad()\n",
        "    loss.backward()\n",
        "    optimizer.step()"
      ]
    },
    {
      "cell_type": "markdown",
      "source": [
        "- Harish G\n",
        "- AIML\n",
        "- 212222243001\n"
      ],
      "metadata": {
        "id": "NG59Cn7uW_ln"
      }
    },
    {
      "cell_type": "markdown",
      "metadata": {
        "id": "8b2Y2KDaICEH"
      },
      "source": [
        "## Plot the loss values\n",
        "Let's see how loss changed over time"
      ]
    },
    {
      "cell_type": "code",
      "execution_count": 145,
      "metadata": {
        "colab": {
          "base_uri": "https://localhost:8080/",
          "height": 466
        },
        "id": "wYRHIBBSICEI",
        "outputId": "dba1ada7-8bb1-48af-da29-6a8795310a28"
      },
      "outputs": [
        {
          "output_type": "execute_result",
          "data": {
            "text/plain": [
              "Text(0.5, 0, 'epoch')"
            ]
          },
          "metadata": {},
          "execution_count": 145
        },
        {
          "output_type": "display_data",
          "data": {
            "text/plain": [
              "<Figure size 640x480 with 1 Axes>"
            ],
            "image/png": "[encoded data removed]"
          },
          "metadata": {}
        }
      ],
      "source": [
        "plt.plot(range(epochs), [loss.item() for loss in losses])\n",
        "plt.ylabel('Loss')\n",
        "plt.xlabel('epoch')"
      ]
    },
    {
      "cell_type": "code",
      "execution_count": 146,
      "metadata": {
        "colab": {
          "base_uri": "https://localhost:8080/"
        },
        "id": "KsHs1nuGICEJ",
        "outputId": "52d661b5-cca2-47c6-9752-4207962cf880"
      },
      "outputs": [
        {
          "output_type": "stream",
          "name": "stdout",
          "text": [
            "Current weight: 1.98302782, Current bias: 1.00750732\n",
            "\n",
            "[ 1. 55.]\n",
            "[  2.9905353 110.074036 ]\n"
          ]
        }
      ],
      "source": [
        "w1,b1 = model.linear.weight.item(), model.linear.bias.item()\n",
        "print(f'Current weight: {w1:.8f}, Current bias: {b1:.8f}')\n",
        "print()\n",
        "\n",
        "y1 = x1*w1 + b1\n",
        "print(x1)\n",
        "print(y1)"
      ]
    },
    {
      "cell_type": "code",
      "execution_count": 147,
      "metadata": {
        "colab": {
          "base_uri": "https://localhost:8080/",
          "height": 472
        },
        "id": "RxvByMgzICEJ",
        "outputId": "a7eb7a3a-28e4-49a6-84cd-91d1b0f60516"
      },
      "outputs": [
        {
          "output_type": "display_data",
          "data": {
            "text/plain": [
              "<Figure size 640x480 with 1 Axes>"
            ],
            "image/png": "[encoded data removed]"
          },
          "metadata": {}
        }
      ],
      "source": [
        "plt.scatter(X.numpy(), y.numpy())\n",
        "plt.plot(x1,y1,'r')\n",
        "plt.title('Current Model')\n",
        "plt.ylabel('y')\n",
        "plt.xlabel('x');"
      ]
    },
    {
      "cell_type": "code",
      "source": [],
      "metadata": {
        "id": "V-vy8HEDRuuQ"
      },
      "execution_count": 147,
      "outputs": []
    }
  ],
  "metadata": {
    "kernelspec": {
      "display_name": "Python 3 (ipykernel)",
      "language": "python",
      "name": "python3"
    },
    "language_info": {
      "codemirror_mode": {
        "name": "ipython",
        "version": 3
      },
      "file_extension": ".py",
      "mimetype": "text/x-python",
      "name": "python",
      "nbconvert_exporter": "python",
      "pygments_lexer": "ipython3",
      "version": "3.12.3"
    },
    "colab": {
      "provenance": []
    }
  },
  "nbformat": 4,
  "nbformat_minor": 0
}